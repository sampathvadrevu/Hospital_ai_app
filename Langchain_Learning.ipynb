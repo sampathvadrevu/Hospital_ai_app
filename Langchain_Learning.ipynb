{
 "cells": [
  {
   "cell_type": "code",
   "execution_count": 3,
   "id": "9ced1aeb-29be-40ba-b6fd-10330e20e526",
   "metadata": {},
   "outputs": [],
   "source": [
    "import os\n",
    "\n",
    "os.environ[\"OPENAI_API_KEY\"] = \"Try_your_Own_api_Key\"\n"
   ]
  },
  {
   "cell_type": "code",
   "execution_count": 33,
   "id": "9b4bbe86-ce29-430d-971a-c18ea47e0735",
   "metadata": {},
   "outputs": [
    {
     "name": "stdout",
     "output_type": "stream",
     "text": [
      "\n",
      "\n",
      "LangChain is a decentralized platform that aims to revolutionize the language learning industry by connecting language learners with native speakers through blockchain technology. It offers a secure and efficient way for users to exchange language skills, eliminating the need for intermediaries and providing a more personalized and cost-effective learning experience. With its user-friendly interface and innovative approach, LangChain is poised to disrupt the traditional language learning methods and create a global community of language enthusiasts. Whether you are a beginner or an advanced learner, LangChain offers a unique and immersive way to learn a new language. \n"
     ]
    }
   ],
   "source": [
    "from langchain.llms import OpenAI\n",
    "\n",
    "llm = OpenAI(temperature = 0.6)\n",
    "\n",
    "intro = llm(\"Give a proper introdection about LangChain under 100 words assuming that I'm a complete beginner \")\n",
    "print(intro)"
   ]
  },
  {
   "cell_type": "code",
   "execution_count": 12,
   "id": "32c11413-3778-48cd-965d-4413c6f58891",
   "metadata": {},
   "outputs": [
    {
     "data": {
      "text/plain": [
       "'Name 5 best restaurants from Hyderabad. I need just the names, no description needed'"
      ]
     },
     "execution_count": 12,
     "metadata": {},
     "output_type": "execute_result"
    }
   ],
   "source": [
    "from langchain.prompts import PromptTemplate\n",
    "\n",
    "Name = PromptTemplate(\n",
    "    input_variable = [\"Place\"],\n",
    "    template = \"Name 5 best restaurants from {Place}. I need just the names, no description needed\",)\n",
    "\n",
    "Name.format(Place = \"Hyderabad\")\n"
   ]
  },
  {
   "cell_type": "code",
   "execution_count": 30,
   "id": "b867ec77-75df-491e-abca-02a451d6e3b9",
   "metadata": {},
   "outputs": [
    {
     "data": {
      "text/plain": [
       "'\\n\\n1. Paragon Restaurant\\n2. Malabar Junction\\n3. The Rice Boat\\n4. Dhe Puttu\\n5. Dal Roti '"
      ]
     },
     "execution_count": 30,
     "metadata": {},
     "output_type": "execute_result"
    }
   ],
   "source": [
    "from langchain.chains import LLMChain\n",
    "\n",
    "chain = LLMChain( llm = llm, prompt = Name)\n",
    "chain.run(\"Kerala\")"
   ]
  },
  {
   "cell_type": "markdown",
   "id": "3351f0d2-4689-48eb-b81a-15e32913a202",
   "metadata": {},
   "source": [
    "## Simple Sequential Chains"
   ]
  },
  {
   "cell_type": "code",
   "execution_count": 41,
   "id": "9ce5d222-2452-4604-94d7-034fa246fe7d",
   "metadata": {},
   "outputs": [
    {
     "name": "stdout",
     "output_type": "stream",
     "text": [
      "\n",
      "\n",
      "\n",
      "1. Dingle Whiskey\n",
      "2. Dingle Gin\n",
      "3. Dingle Peninsula\n",
      "4. Dingle Bay\n",
      "5. Dingle Aquarium\n"
     ]
    }
   ],
   "source": [
    "llm = OpenAI(temperature = 0.9)\n",
    "\n",
    "#First Prompt Template for Restaurant Name \n",
    "rest_name = PromptTemplate(\n",
    "    input_variable = [\"city\"],\n",
    "    template = \"Suggest one best place in {city} for my meal, Just the name and no description\"\n",
    "    )\n",
    "#First chain for Restaurant Name \n",
    "name_chain = LLMChain(llm = llm, prompt = rest_name)\n",
    "\n",
    "#Second Prompt Template for Restaurant Items \n",
    "rest_items = PromptTemplate(\n",
    "    input_variable = [\"items\"],\n",
    "    template = \"Any 5 best {items} I can have at this place. Just the name and no description. Return as a Ordered list\"\n",
    "    )\n",
    "\n",
    "#Second Chain for Restaurant Items \n",
    "items_chain = LLMChain(llm = llm, prompt = rest_items)\n",
    "\n",
    "#Applying Simple Sequential Chains for these two templates\n",
    "\n",
    "from langchain.chains import SimpleSequentialChain\n",
    "\n",
    "chain = SimpleSequentialChain(chains = [name_chain, items_chain])\n",
    "response = chain.run(\"Irish\")\n",
    "print(response)\n"
   ]
  },
  {
   "cell_type": "markdown",
   "id": "3f4df95f-2ca6-47ab-bef0-5343fdbca05c",
   "metadata": {},
   "source": [
    "## Sequential Chain"
   ]
  },
  {
   "cell_type": "code",
   "execution_count": 56,
   "id": "c91e8d4f-ddf1-436b-b5f5-75ae437507a3",
   "metadata": {},
   "outputs": [
    {
     "data": {
      "text/plain": [
       "{'City': 'Rajahmundry',\n",
       " 'restaurant_name': '\\n\\nAnnapurna Punjabi Dhaba \\n',\n",
       " 'menu_items': '\\n\\n1. Butter Chicken\\n2. Tandoori Chicken\\n3. Saag Paneer\\n4. Chole Bhature\\n5. Aloo Paratha'}"
      ]
     },
     "execution_count": 56,
     "metadata": {},
     "output_type": "execute_result"
    }
   ],
   "source": [
    "llm = OpenAI(temperature = 0.9)\n",
    "\n",
    "#First Prompt Template for Restaurant Name \n",
    "rest_name = PromptTemplate(\n",
    "    input_variable = [\"City\"],\n",
    "    template = \"Suggest one best restaurant in {City} for my meal, Just the name and no description\"\n",
    "    )\n",
    "#First chain for Restaurant Name \n",
    "name_chain = LLMChain(llm = llm, prompt = rest_name, output_key = \"restaurant_name\")\n",
    "\n",
    "#Second Prompt Template for Restaurant Items \n",
    "rest_items = PromptTemplate(\n",
    "    input_variable = [\"restaurant_name\"],\n",
    "    template = \"Any 5 best items I can have at {restaurant_name}. Just the item names and no description. Return as a Ordered list\"\n",
    "    )\n",
    "\n",
    "#Second Chain for Menu Items \n",
    "items_chain = LLMChain(llm = llm, prompt = rest_items, output_key = \"menu_items\")\n",
    "\n",
    "#Applying Sequential Chains for these two templates\n",
    "\n",
    "from langchain.chains import SequentialChain\n",
    "\n",
    "chain = SequentialChain(\n",
    "    chains = [name_chain, items_chain],\n",
    "    input_variables = [\"City\"],\n",
    "    output_variables = [\"restaurant_name\", \"menu_items\"])\n",
    "\n",
    "chain({\"City\" : \"Rajahmundry\"})\n",
    "\n"
   ]
  },
  {
   "cell_type": "code",
   "execution_count": 67,
   "id": "11c506be-8110-4163-a574-297080ce2e00",
   "metadata": {},
   "outputs": [
    {
     "data": {
      "text/plain": [
       "{'City': 'Visakhapatnam',\n",
       " 'city_name': '\\n\\nVisakhapatnam, also known as Vizag, is a city on the east coast of India in the state of Andhra Pradesh. It is a major industrial center, but it also boasts some of the best hospital facilities in the region. These facilities are equipped with advanced technology, highly skilled doctors, and compassionate staff, making them the go-to hospitals for medical treatment.\\n\\nOne of the top hospitals in Visakhapatnam is Apollo Hospitals, which offers a wide range of medical services in various specialties such as cardiology, neurology, oncology, and more. It is known for its state-of-the-art infrastructure, cutting-edge technology, and experienced medical professionals.\\n\\nAnother renowned hospital in Vizag is Manipal Hospitals, known for its quality healthcare services and patient-centric approach. It has a team of highly qualified doctors and modern facilities such as advanced operation theaters, intensive care units, and diagnostic services.\\n\\nMoreover, Care Hospitals is a well-known hospital chain that has a branch in Visakhapatnam providing excellent medical services in various fields, including cardiology, gastroenterology, and nephrology. It is equipped with the latest medical equipment and has a team of dedicated doctors and staff.\\n\\nIn conclusion, the hospitals in Visakhapatnam are well-known',\n",
       " 'hospital_name': ' These hospitals aim to provide the best medical care possible to their patients and are equipped with all the modern facilities and highly skilled medical professionals.',\n",
       " 'hospital_details': '\\n\\nIntroduction:\\n\\nThese hospitals are dedicated to providing the highest quality medical care to their patients. With state-of-the-art facilities and a team of highly qualified and experienced medical professionals, these hospitals strive to deliver the best possible treatment and improve the health and well-being of their patients.\\n\\nTop 3 Best Doctors:\\n\\n1. Dr. John Smith, MD, Cardiologist - With over 20 years of experience, Dr. Smith is a renowned cardiologist known for his expertise in diagnosing and treating heart conditions. He has been recognized as one of the top 10 cardiologists in the country and has numerous successful cases to his credit.\\n\\n2. Dr. Sarah Jones, MD, Oncologist - Dr. Jones is a leading oncologist with a specialization in treating various types of cancers. With an exceptional academic background and extensive experience, she is highly regarded in the medical community for her innovative treatment approaches and compassionate care for her patients.\\n\\n3. Dr. David Lee, MD, Neurosurgeon - As a board-certified neurosurgeon, Dr. Lee is known for his exceptional skills in performing complex brain and spine surgeries. With years of training and experience, he has successfully treated many patients with neurological disorders and injuries, earning him a reputation as one of the top neuro'}"
      ]
     },
     "execution_count": 67,
     "metadata": {},
     "output_type": "execute_result"
    }
   ],
   "source": [
    "llm = OpenAI(temperature = 0.9)\n",
    "\n",
    "#Primary Prompt Template for City Name \n",
    "city_name = PromptTemplate(\n",
    "    input_variable = [\"City\"],\n",
    "    template = \"Give a very nice short introduction about the best hospital facilities in the {City} under 250 words\"\n",
    "    )\n",
    "#First chain for City Name \n",
    "city_chain = LLMChain(llm = llm, prompt = city_name, output_key = \"city_name\")\n",
    "\n",
    "#First Prompt Template for Hospital Name \n",
    "hosp_name = PromptTemplate(\n",
    "    input_variable = [\"city_name\"],\n",
    "    template = \"Suggest two best hospitals in {city_name} for all sorts of emergencies.\"\n",
    "    )\n",
    "#First chain for Hospital Name \n",
    "hospital_chain = LLMChain(llm = llm, prompt = hosp_name, output_key = \"hospital_name\")  # Fixed variable name from rest_name to hosp_name\n",
    "\n",
    "#Second Prompt Template for Restaurant Items \n",
    "hosp_details = PromptTemplate(\n",
    "    input_variable = [\"hospital_name\"],\n",
    "    template = \"Give the introduction about the {hospital_name} and list top 3 best doctors of that {hospital_name}, their degrees and their specialisation. Return as a Ordered list\"\n",
    "    )\n",
    "\n",
    "#Second Chain for Menu Items \n",
    "details_chain = LLMChain(llm = llm, prompt = hosp_details, output_key = \"hospital_details\")  # Fixed variable name from rest_items to hosp_details\n",
    "\n",
    "#Applying Sequential Chains for these two templates\n",
    "\n",
    "from langchain.chains import SequentialChain\n",
    "\n",
    "chain = SequentialChain(\n",
    "    chains = [city_chain, hospital_chain, details_chain],  # Added closing bracket here\n",
    "    input_variables = [\"City\"],\n",
    "    output_variables = [\"city_name\",\"hospital_name\", \"hospital_details\"]\n",
    ")\n",
    "\n",
    "chain({\"City\" : \"Visakhapatnam\"})"
   ]
  },
  {
   "cell_type": "code",
   "execution_count": null,
   "id": "cf21821e-bb37-4053-b3e8-209258c153f3",
   "metadata": {},
   "outputs": [],
   "source": []
  }
 ],
 "metadata": {
  "kernelspec": {
   "display_name": "Python [conda env:base] *",
   "language": "python",
   "name": "conda-base-py"
  },
  "language_info": {
   "codemirror_mode": {
    "name": "ipython",
    "version": 3
   },
   "file_extension": ".py",
   "mimetype": "text/x-python",
   "name": "python",
   "nbconvert_exporter": "python",
   "pygments_lexer": "ipython3",
   "version": "3.13.5"
  }
 },
 "nbformat": 4,
 "nbformat_minor": 5
}
